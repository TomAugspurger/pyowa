{
 "metadata": {
  "name": "",
  "signature": "sha256:bfe53993cf427749a4fee4dfd4f67a04c9a8eca0d6cdeb6c22961837c83893ee"
 },
 "nbformat": 3,
 "nbformat_minor": 0,
 "worksheets": [
  {
   "cells": [
    {
     "cell_type": "markdown",
     "metadata": {},
     "source": [
      "# Fortran"
     ]
    },
    {
     "cell_type": "markdown",
     "metadata": {},
     "source": [
      "See http://nbviewer.ipython.org/github/mgaitan/fortran_magic/blob/master/documentation.ipynb"
     ]
    },
    {
     "cell_type": "code",
     "collapsed": false,
     "input": [
      "%install_ext https://raw.github.com/mgaitan/fortran_magic/master/fortranmagic.py"
     ],
     "language": "python",
     "metadata": {},
     "outputs": [
      {
       "output_type": "stream",
       "stream": "stdout",
       "text": [
        "Installed fortranmagic.py. To use it, type:\n",
        "  %load_ext fortranmagic\n"
       ]
      }
     ],
     "prompt_number": 1
    },
    {
     "cell_type": "code",
     "collapsed": false,
     "input": [
      "%load_ext fortranmagic"
     ],
     "language": "python",
     "metadata": {},
     "outputs": [
      {
       "javascript": [
        "$.getScript(\"https://raw.github.com/marijnh/CodeMirror/master/mode/fortran/fortran.js\", function () {\n",
        "IPython.config.cell_magic_highlight['magic_fortran'] = {'reg':[/^%%fortran/]};});\n"
       ],
       "metadata": {},
       "output_type": "display_data"
      }
     ],
     "prompt_number": 3
    },
    {
     "cell_type": "code",
     "collapsed": false,
     "input": [
      "%%fortran --link lapack -vv\n",
      "\n",
      "subroutine solve(A, b, x, n)\n",
      "    ! solve the matrix equation A*x=b using LAPACK\n",
      "    implicit none\n",
      "\n",
      "    real*8, dimension(n,n), intent(in) :: A\n",
      "    real*8, dimension(n), intent(in) :: b\n",
      "    real*8, dimension(n), intent(out) :: x\n",
      "\n",
      "    integer :: i, j, pivot(n), ok\n",
      "\n",
      "    integer, intent(in) :: n\n",
      "    x = b\n",
      "\n",
      "    ! find the solution using the LAPACK routine SGESV\n",
      "    call DGESV(n, 1, A, n, pivot, x, n, ok)\n",
      "    \n",
      "end subroutine"
     ],
     "language": "python",
     "metadata": {},
     "outputs": [
      {
       "output_type": "stream",
       "stream": "stdout",
       "text": [
        "Running...\n",
        "   f2py --link-lapack -m _fortran_magic_e80307f15b22ad66e4849d8166566ef7 -c /Users/tom/.ipython/fortran/_fortran_magic_e80307f15b22ad66e4849d8166566ef7.f90\n",
        "\tBuilding module \"_fortran_magic_e80307f15b22ad66e4849d8166566ef7\"...\n"
       ]
      },
      {
       "output_type": "stream",
       "stream": "stdout",
       "text": [
        "\t\tConstructing wrapper function \"solve\"...\n",
        "\t\t  x = solve(a,b,[n])\n",
        "\tWrote C/API module \"_fortran_magic_e80307f15b22ad66e4849d8166566ef7\" to file \"/var/folders/7d/9vt3zc650d7ghg740jbg7v2w0000gn/T/tmpYk4628/src.macosx-10.5-x86_64-2.7/_fortran_magic_e80307f15b22ad66e4849d8166566ef7module.c\"\n",
        "\n",
        "Ok. The following fortran objects are ready to use: solve"
       ]
      },
      {
       "output_type": "stream",
       "stream": "stdout",
       "text": [
        "\n"
       ]
      }
     ],
     "prompt_number": 4
    },
    {
     "cell_type": "code",
     "collapsed": false,
     "input": [
      "!cat hellofortran.f"
     ],
     "language": "python",
     "metadata": {},
     "outputs": [
      {
       "output_type": "stream",
       "stream": "stdout",
       "text": [
        "C File  hellofortran.f\r\n",
        "        subroutine hellofortran (n)\r\n",
        "        integer n\r\n",
        "       \r\n",
        "        do 100 i=0, n\r\n",
        "            print *, \"Fortran says hello\"\r\n",
        "100     continue\r\n",
        "        end"
       ]
      }
     ],
     "prompt_number": 11
    },
    {
     "cell_type": "code",
     "collapsed": false,
     "input": [
      "A = np.array([[1, 2.5], [-3, 4]])\n",
      "b = np.array([1, 2.5])\n",
      "solve(A, b)"
     ],
     "language": "python",
     "metadata": {},
     "outputs": [
      {
       "metadata": {},
       "output_type": "pyout",
       "prompt_number": 5,
       "text": [
        "array([-0.19565217,  0.47826087])"
       ]
      }
     ],
     "prompt_number": 5
    },
    {
     "cell_type": "markdown",
     "metadata": {},
     "source": [
      "# Cython"
     ]
    },
    {
     "cell_type": "markdown",
     "metadata": {},
     "source": [
      "See http://nbviewer.ipython.org/github/ipython/ipython/blob/3607712653c66d63e0d7f13f073bde8c0f209ba8/docs/examples/notebooks/cython_extension.ipynb"
     ]
    },
    {
     "cell_type": "code",
     "collapsed": false,
     "input": [
      "%load_ext cythonmagic"
     ],
     "language": "python",
     "metadata": {},
     "outputs": [],
     "prompt_number": 7
    },
    {
     "cell_type": "code",
     "collapsed": false,
     "input": [
      "%%cython\n",
      "cimport cython\n",
      "from libc.math cimport exp, sqrt, pow, log, erf\n",
      "\n",
      "@cython.cdivision(True)\n",
      "cdef double std_norm_cdf(double x) nogil:\n",
      "    return 0.5*(1+erf(x/sqrt(2.0)))\n",
      "\n",
      "@cython.cdivision(True)\n",
      "def black_scholes(double s, double k, double t, double v,\n",
      "                 double rf, double div, double cp):\n",
      "    \"\"\"Price an option using the Black-Scholes model.\n",
      "    \n",
      "    s : initial stock price\n",
      "    k : strike price\n",
      "    t : expiration time\n",
      "    v : volatility\n",
      "    rf : risk-free rate\n",
      "    div : dividend\n",
      "    cp : +1/-1 for call/put\n",
      "    \"\"\"\n",
      "    cdef double d1, d2, optprice\n",
      "    with nogil:\n",
      "        d1 = (log(s/k)+(rf-div+0.5*pow(v,2))*t)/(v*sqrt(t))\n",
      "        d2 = d1 - v*sqrt(t)\n",
      "        optprice = cp*s*exp(-div*t)*std_norm_cdf(cp*d1) - \\\n",
      "            cp*k*exp(-rf*t)*std_norm_cdf(cp*d2)\n",
      "    return optprice\n"
     ],
     "language": "python",
     "metadata": {},
     "outputs": [
      {
       "output_type": "stream",
       "stream": "stdout",
       "text": [
        "building '_cython_magic_27223cc68df9c985c8d89e5f065d8bf2' extension\n"
       ]
      },
      {
       "output_type": "stream",
       "stream": "stdout",
       "text": [
        "C compiler: gcc -fno-strict-aliasing -I/Users/tom/miniconda3/envs/work/include -arch x86_64 -DNDEBUG -g -fwrapv -O3 -Wall -Wstrict-prototypes\n",
        "\n"
       ]
      },
      {
       "output_type": "stream",
       "stream": "stdout",
       "text": [
        "compile options: '-I/Users/tom/miniconda3/envs/work/include/python2.7 -c'\n"
       ]
      },
      {
       "output_type": "stream",
       "stream": "stdout",
       "text": [
        "gcc: /Users/tom/.ipython/cython/_cython_magic_27223cc68df9c985c8d89e5f065d8bf2.c\n"
       ]
      },
      {
       "output_type": "stream",
       "stream": "stdout",
       "text": [
        "gcc -bundle -undefined dynamic_lookup -L/Users/tom/miniconda3/envs/work/lib -arch x86_64 -arch x86_64 /Users/tom/.ipython/cython/Users/tom/.ipython/cython/_cython_magic_27223cc68df9c985c8d89e5f065d8bf2.o -L/Users/tom/miniconda3/envs/work/lib -o /Users/tom/.ipython/cython/_cython_magic_27223cc68df9c985c8d89e5f065d8bf2.so\n"
       ]
      }
     ],
     "prompt_number": 8
    },
    {
     "cell_type": "code",
     "collapsed": false,
     "input": [
      "black_scholes(100.0, 100.0, 1.0, 0.3, 0.03, 0.0, -1)"
     ],
     "language": "python",
     "metadata": {},
     "outputs": [
      {
       "metadata": {},
       "output_type": "pyout",
       "prompt_number": 9,
       "text": [
        "10.327861752731728"
       ]
      }
     ],
     "prompt_number": 9
    },
    {
     "cell_type": "code",
     "collapsed": false,
     "input": [],
     "language": "python",
     "metadata": {},
     "outputs": []
    }
   ],
   "metadata": {}
  }
 ]
}